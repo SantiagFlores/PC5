{
 "cells": [
  {
   "cell_type": "markdown",
   "metadata": {},
   "source": [
    "# Ejercicio - Busqueda de Alojamiento en Airbnb.\n",
    "\n",
    "Supongamos que somos un agente de [Airbnb](http://www.airbnb.com) localizado en Lisboa, y tenemos que atender peticiones de varios clientes. Tenemos un archivo llamado `airbnb.csv` (en la carpeta data) donde tenemos información de todos los alojamientos de Airbnb en Lisboa."
   ]
  },
  {
   "cell_type": "code",
   "execution_count": 1,
   "metadata": {},
   "outputs": [],
   "source": [
    "import pandas as pd\n",
    "df_airbnb = pd.read_csv(\"./data/airbnb.csv\")"
   ]
  },
  {
   "cell_type": "code",
   "execution_count": 2,
   "metadata": {},
   "outputs": [
    {
     "data": {
      "text/html": [
       "<div>\n",
       "<style scoped>\n",
       "    .dataframe tbody tr th:only-of-type {\n",
       "        vertical-align: middle;\n",
       "    }\n",
       "\n",
       "    .dataframe tbody tr th {\n",
       "        vertical-align: top;\n",
       "    }\n",
       "\n",
       "    .dataframe thead th {\n",
       "        text-align: right;\n",
       "    }\n",
       "</style>\n",
       "<table border=\"1\" class=\"dataframe\">\n",
       "  <thead>\n",
       "    <tr style=\"text-align: right;\">\n",
       "      <th></th>\n",
       "      <th>room_id</th>\n",
       "      <th>host_id</th>\n",
       "      <th>room_type</th>\n",
       "      <th>neighborhood</th>\n",
       "      <th>reviews</th>\n",
       "      <th>overall_satisfaction</th>\n",
       "      <th>accommodates</th>\n",
       "      <th>bedrooms</th>\n",
       "      <th>price</th>\n",
       "    </tr>\n",
       "  </thead>\n",
       "  <tbody>\n",
       "    <tr>\n",
       "      <th>0</th>\n",
       "      <td>6499</td>\n",
       "      <td>14455</td>\n",
       "      <td>Entire home/apt</td>\n",
       "      <td>Belém</td>\n",
       "      <td>8</td>\n",
       "      <td>5.0</td>\n",
       "      <td>2</td>\n",
       "      <td>1.0</td>\n",
       "      <td>57.0</td>\n",
       "    </tr>\n",
       "    <tr>\n",
       "      <th>1</th>\n",
       "      <td>17031</td>\n",
       "      <td>66015</td>\n",
       "      <td>Entire home/apt</td>\n",
       "      <td>Alvalade</td>\n",
       "      <td>0</td>\n",
       "      <td>0.0</td>\n",
       "      <td>2</td>\n",
       "      <td>1.0</td>\n",
       "      <td>46.0</td>\n",
       "    </tr>\n",
       "    <tr>\n",
       "      <th>2</th>\n",
       "      <td>25659</td>\n",
       "      <td>107347</td>\n",
       "      <td>Entire home/apt</td>\n",
       "      <td>Santa Maria Maior</td>\n",
       "      <td>63</td>\n",
       "      <td>5.0</td>\n",
       "      <td>3</td>\n",
       "      <td>1.0</td>\n",
       "      <td>69.0</td>\n",
       "    </tr>\n",
       "    <tr>\n",
       "      <th>3</th>\n",
       "      <td>29248</td>\n",
       "      <td>125768</td>\n",
       "      <td>Entire home/apt</td>\n",
       "      <td>Santa Maria Maior</td>\n",
       "      <td>225</td>\n",
       "      <td>4.5</td>\n",
       "      <td>4</td>\n",
       "      <td>1.0</td>\n",
       "      <td>58.0</td>\n",
       "    </tr>\n",
       "    <tr>\n",
       "      <th>4</th>\n",
       "      <td>29396</td>\n",
       "      <td>126415</td>\n",
       "      <td>Entire home/apt</td>\n",
       "      <td>Santa Maria Maior</td>\n",
       "      <td>132</td>\n",
       "      <td>5.0</td>\n",
       "      <td>4</td>\n",
       "      <td>1.0</td>\n",
       "      <td>67.0</td>\n",
       "    </tr>\n",
       "  </tbody>\n",
       "</table>\n",
       "</div>"
      ],
      "text/plain": [
       "   room_id  host_id        room_type       neighborhood  reviews  \\\n",
       "0     6499    14455  Entire home/apt              Belém        8   \n",
       "1    17031    66015  Entire home/apt           Alvalade        0   \n",
       "2    25659   107347  Entire home/apt  Santa Maria Maior       63   \n",
       "3    29248   125768  Entire home/apt  Santa Maria Maior      225   \n",
       "4    29396   126415  Entire home/apt  Santa Maria Maior      132   \n",
       "\n",
       "   overall_satisfaction  accommodates  bedrooms  price  \n",
       "0                   5.0             2       1.0   57.0  \n",
       "1                   0.0             2       1.0   46.0  \n",
       "2                   5.0             3       1.0   69.0  \n",
       "3                   4.5             4       1.0   58.0  \n",
       "4                   5.0             4       1.0   67.0  "
      ]
     },
     "execution_count": 2,
     "metadata": {},
     "output_type": "execute_result"
    }
   ],
   "source": [
    "df_airbnb.head()"
   ]
  },
  {
   "cell_type": "code",
   "execution_count": 3,
   "metadata": {},
   "outputs": [
    {
     "data": {
      "text/plain": [
       "room_id                   int64\n",
       "host_id                   int64\n",
       "room_type                object\n",
       "neighborhood             object\n",
       "reviews                   int64\n",
       "overall_satisfaction    float64\n",
       "accommodates              int64\n",
       "bedrooms                float64\n",
       "price                   float64\n",
       "dtype: object"
      ]
     },
     "execution_count": 3,
     "metadata": {},
     "output_type": "execute_result"
    }
   ],
   "source": [
    "df_airbnb.dtypes"
   ]
  },
  {
   "cell_type": "markdown",
   "metadata": {},
   "source": [
    "En concreto el dataset tiene las siguientes variables:\n",
    "- room_id: el identificador de la propiedad\n",
    "- host_id: el identificador del dueño de la propiedad\n",
    "- room_type: tipo de propiedad (vivienda completa/(habitacion para compartir/habitación privada)\n",
    "- neighborhood: el barrio de Lisboa\n",
    "- reviews: El numero de opiniones\n",
    "- overall_satisfaction: Puntuacion media del apartamento\n",
    "- accommodates: El numero de personas que se pueden alojar en la propiedad\n",
    "- bedrooms: El número de habitaciones\n",
    "- price: El precio (en euros) por noche"
   ]
  },
  {
   "cell_type": "markdown",
   "metadata": {},
   "source": [
    "## Usando Pandas"
   ]
  },
  {
   "cell_type": "markdown",
   "metadata": {},
   "source": [
    "### Caso 1.\n",
    "\n",
    "Alicia va a ir a Lisboa durante una semana con su marido y sus 2 hijos. Están buscando un apartamento con habitaciones separadas para los padres y los hijos. No les importa donde alojarse o el precio, simplemente quieren tener una experiencia agradable. Esto significa que solo aceptan lugares con más de 10 críticas con una puntuación mayor de 4. Cuando seleccionemos habitaciones para Alicia, tenemos que asegurarnos de ordenar las habitaciones de mejor a peor puntuación. Para aquellas habitaciones que tienen la misma puntuación, debemos mostrar antes aquellas con más críticas. Debemos darle 3 alternativas."
   ]
  },
  {
   "cell_type": "code",
   "execution_count": 2,
   "metadata": {},
   "outputs": [
    {
     "name": "stdout",
     "output_type": "stream",
     "text": [
      "Ruta completa al archivo: /workspaces/PC5/data/airbnb.csv\n",
      "     room_id  host_id        room_type       neighborhood  reviews  \\\n",
      "120   176153   842219  Entire home/apt       Misericórdia      438   \n",
      "16     44043   192830  Entire home/apt  Santa Maria Maior      316   \n",
      "697   789789  4043364  Entire home/apt       Misericórdia      287   \n",
      "\n",
      "     overall_satisfaction  accommodates  bedrooms  price  \n",
      "120                   5.0             4       2.0  102.0  \n",
      "16                    5.0             7       3.0   80.0  \n",
      "697                   5.0             4       1.0   84.0  \n"
     ]
    }
   ],
   "source": [
    "import os\n",
    "import pandas as pd\n",
    "\n",
    "# Obtener la ruta absoluta del directorio actual\n",
    "current_dir = os.path.abspath(os.getcwd())\n",
    "\n",
    "# Construir la ruta completa al archivo CSV\n",
    "file_path = os.path.join(current_dir, 'data', 'airbnb.csv')\n",
    "\n",
    "# Imprimir la ruta completa para verificar\n",
    "print(f'Ruta completa al archivo: {file_path}')\n",
    "\n",
    "# Cargar el dataset\n",
    "df_airbnb = pd.read_csv(file_path)\n",
    "\n",
    "# Caso 1: Alicia busca un apartamento en Lisboa\n",
    "def buscar_apartamento_alicia(df):\n",
    "    # Filtra por habitaciones con más de 10 críticas y puntuación mayor a 4\n",
    "    habitaciones_filtradas = df[(df['reviews'] > 10) & (df['overall_satisfaction'] > 4)]\n",
    "    \n",
    "    # Filtra por habitaciones que pueden acomodar a la familia de Alicia\n",
    "    habitaciones_familia = habitaciones_filtradas[habitaciones_filtradas['accommodates'] >= 4]\n",
    "    \n",
    "    # Ordena por puntuación y número de críticas en orden descendente\n",
    "    habitaciones_ordenadas = habitaciones_familia.sort_values(by=['overall_satisfaction', 'reviews'], ascending=[False, False])\n",
    "    \n",
    "    # Selecciona las 3 mejores opciones\n",
    "    opciones_alicia = habitaciones_ordenadas.head(3)\n",
    "    \n",
    "    return opciones_alicia\n",
    "\n",
    "# Llama a la función y muestra las opciones a Alicia\n",
    "opciones_alicia = buscar_apartamento_alicia(df_airbnb)\n",
    "print(opciones_alicia)\n"
   ]
  },
  {
   "cell_type": "markdown",
   "metadata": {},
   "source": [
    "### Caso 2\n",
    "\n",
    "Roberto es un casero que tiene una casa en Airbnb. De vez en cuando nos llama preguntando sobre cuales son las críticas de su alojamiento. Hoy está particularmente enfadado, ya que su hermana Clara ha puesto una casa en Airbnb y Roberto quiere asegurarse de que su casa tiene más críticas que las de Clara. Tenemos que crear un dataframe con las propiedades de ambos. Las id de las casas de Roberto y Clara son 97503 y 90387  respectivamente. Finalmente guardamos este dataframe como excel llamado \"roberto.xls"
   ]
  },
  {
   "cell_type": "code",
   "execution_count": 3,
   "metadata": {},
   "outputs": [
    {
     "name": "stdout",
     "output_type": "stream",
     "text": [
      "Propiedades de Roberto:\n",
      "Empty DataFrame\n",
      "Columns: [room_id, host_id, room_type, neighborhood, reviews, overall_satisfaction, accommodates, bedrooms, price]\n",
      "Index: []\n",
      "\n",
      "Propiedades de Clara:\n",
      "Empty DataFrame\n",
      "Columns: [room_id, host_id, room_type, neighborhood, reviews, overall_satisfaction, accommodates, bedrooms, price]\n",
      "Index: []\n"
     ]
    }
   ],
   "source": [
    "print(\"Propiedades de Roberto:\")\n",
    "print(df_airbnb[df_airbnb['host_id'] == id_roberto])\n",
    "\n",
    "print(\"\\nPropiedades de Clara:\")\n",
    "print(df_airbnb[df_airbnb['host_id'] == id_clara])\n"
   ]
  },
  {
   "cell_type": "code",
   "execution_count": 1,
   "metadata": {
    "tags": []
   },
   "outputs": [
    {
     "name": "stderr",
     "output_type": "stream",
     "text": [
      "/tmp/ipykernel_15646/1737739752.py:2: DeprecationWarning: \n",
      "Pyarrow will become a required dependency of pandas in the next major release of pandas (pandas 3.0),\n",
      "(to allow more performant data types, such as the Arrow string type, and better interoperability with other libraries)\n",
      "but was not found to be installed on your system.\n",
      "If this would cause problems for you,\n",
      "please provide us feedback at https://github.com/pandas-dev/pandas/issues/54466\n",
      "        \n",
      "  import pandas as pd\n"
     ]
    },
    {
     "name": "stdout",
     "output_type": "stream",
     "text": [
      "Ruta completa al archivo: /workspaces/PC5/data/airbnb.csv\n",
      "\n",
      "Propiedades de Roberto:\n",
      "Empty DataFrame\n",
      "Columns: [room_id, host_id, room_type, neighborhood, reviews, overall_satisfaction, accommodates, bedrooms, price]\n",
      "Index: []\n",
      "\n",
      "Propiedades de Clara:\n",
      "Empty DataFrame\n",
      "Columns: [room_id, host_id, room_type, neighborhood, reviews, overall_satisfaction, accommodates, bedrooms, price]\n",
      "Index: []\n",
      "\n",
      "Dataframe con propiedades de Roberto y Clara:\n",
      "Empty DataFrame\n",
      "Columns: [room_id, host_id, room_type, neighborhood, reviews, overall_satisfaction, accommodates, bedrooms, price]\n",
      "Index: []\n",
      "\n",
      "Dataframe guardado como \"/workspaces/PC5/roberto.xlsx\"\n"
     ]
    }
   ],
   "source": [
    "import os\n",
    "import pandas as pd\n",
    "\n",
    "# Obtener la ruta absoluta del directorio actual\n",
    "current_dir = os.path.abspath(os.getcwd())\n",
    "\n",
    "# Construir la ruta completa al archivo CSV\n",
    "file_path = os.path.join(current_dir, 'data', 'airbnb.csv')\n",
    "\n",
    "# Imprimir la ruta completa para verificar\n",
    "print(f'Ruta completa al archivo: {file_path}')\n",
    "\n",
    "# Cargar el dataset\n",
    "df_airbnb = pd.read_csv(file_path)\n",
    "\n",
    "# Id de las casas de Roberto y Clara\n",
    "id_roberto = 97503\n",
    "id_clara = 90387\n",
    "\n",
    "# Verificar propiedades de Roberto\n",
    "print(\"\\nPropiedades de Roberto:\")\n",
    "print(df_airbnb[df_airbnb['host_id'] == id_roberto])\n",
    "\n",
    "# Verificar propiedades de Clara\n",
    "print(\"\\nPropiedades de Clara:\")\n",
    "print(df_airbnb[df_airbnb['host_id'] == id_clara])\n",
    "\n",
    "# Crear un dataframe con las propiedades de ambos\n",
    "propiedades_roberto = df_airbnb[df_airbnb['host_id'] == id_roberto]\n",
    "propiedades_clara = df_airbnb[df_airbnb['host_id'] == id_clara]\n",
    "df_roberto_clara = pd.concat([propiedades_roberto, propiedades_clara])\n",
    "\n",
    "# Imprimir el dataframe\n",
    "print(\"\\nDataframe con propiedades de Roberto y Clara:\")\n",
    "print(df_roberto_clara)\n",
    "\n",
    "# Guardar el dataframe como un archivo Excel\n",
    "excel_file_path = os.path.join(current_dir, 'roberto.xlsx')\n",
    "df_roberto_clara.to_excel(excel_file_path, index=False)\n",
    "print(f'\\nDataframe guardado como \"{excel_file_path}\"')\n",
    "\n",
    "\n"
   ]
  },
  {
   "cell_type": "code",
   "execution_count": 2,
   "metadata": {},
   "outputs": [
    {
     "name": "stdout",
     "output_type": "stream",
     "text": [
      "   room_id  host_id        room_type       neighborhood  reviews  \\\n",
      "0     6499    14455  Entire home/apt              Belém        8   \n",
      "1    17031    66015  Entire home/apt           Alvalade        0   \n",
      "2    25659   107347  Entire home/apt  Santa Maria Maior       63   \n",
      "3    29248   125768  Entire home/apt  Santa Maria Maior      225   \n",
      "4    29396   126415  Entire home/apt  Santa Maria Maior      132   \n",
      "\n",
      "   overall_satisfaction  accommodates  bedrooms  price  \n",
      "0                   5.0             2       1.0   57.0  \n",
      "1                   0.0             2       1.0   46.0  \n",
      "2                   5.0             3       1.0   69.0  \n",
      "3                   4.5             4       1.0   58.0  \n",
      "4                   5.0             4       1.0   67.0  \n"
     ]
    }
   ],
   "source": [
    "# Imprimir las primeras filas del conjunto de datos\n",
    "print(df_airbnb.head())\n"
   ]
  },
  {
   "cell_type": "code",
   "execution_count": 3,
   "metadata": {},
   "outputs": [
    {
     "name": "stdout",
     "output_type": "stream",
     "text": [
      "[    14455     66015    107347 ... 135915593   6115933  28219108]\n"
     ]
    }
   ],
   "source": [
    "# Imprimir host_id únicos en el conjunto de datos\n",
    "print(df_airbnb['host_id'].unique())\n"
   ]
  },
  {
   "cell_type": "code",
   "execution_count": 4,
   "metadata": {},
   "outputs": [
    {
     "name": "stdout",
     "output_type": "stream",
     "text": [
      "Propiedades de Roberto:\n",
      "Empty DataFrame\n",
      "Columns: [room_id, host_id, room_type, neighborhood, reviews, overall_satisfaction, accommodates, bedrooms, price]\n",
      "Index: []\n",
      "\n",
      "Propiedades de Clara:\n",
      "Empty DataFrame\n",
      "Columns: [room_id, host_id, room_type, neighborhood, reviews, overall_satisfaction, accommodates, bedrooms, price]\n",
      "Index: []\n"
     ]
    }
   ],
   "source": [
    "# Identificadores de Roberto y Clara\n",
    "id_roberto = 97503\n",
    "id_clara = 90387\n",
    "\n",
    "# Verificar si hay alguna propiedad de Roberto y Clara en el conjunto de datos\n",
    "properties_roberto = df_airbnb[df_airbnb['host_id'] == id_roberto]\n",
    "properties_clara = df_airbnb[df_airbnb['host_id'] == id_clara]\n",
    "\n",
    "# Imprimir las propiedades de Roberto y Clara\n",
    "print(\"Propiedades de Roberto:\")\n",
    "print(properties_roberto)\n",
    "\n",
    "print(\"\\nPropiedades de Clara:\")\n",
    "print(properties_clara)\n"
   ]
  },
  {
   "cell_type": "code",
   "execution_count": 5,
   "metadata": {},
   "outputs": [
    {
     "name": "stdout",
     "output_type": "stream",
     "text": [
      "Propiedades similares a Roberto:\n",
      "   room_id  host_id        room_type       neighborhood  reviews  \\\n",
      "0     6499    14455  Entire home/apt              Belém        8   \n",
      "2    25659   107347  Entire home/apt  Santa Maria Maior       63   \n",
      "3    29248   125768  Entire home/apt  Santa Maria Maior      225   \n",
      "4    29396   126415  Entire home/apt  Santa Maria Maior      132   \n",
      "5    29720   128075  Entire home/apt            Estrela       14   \n",
      "\n",
      "   overall_satisfaction  accommodates  bedrooms   price  \n",
      "0                   5.0             2       1.0    57.0  \n",
      "2                   5.0             3       1.0    69.0  \n",
      "3                   4.5             4       1.0    58.0  \n",
      "4                   5.0             4       1.0    67.0  \n",
      "5                   5.0            16       9.0  1154.0  \n",
      "\n",
      "Propiedades similares a Clara:\n",
      "        room_id    host_id        room_type       neighborhood  reviews  \\\n",
      "12829  19051322  132979089     Private room    Penha de França        3   \n",
      "12855  19067635   46064752  Entire home/apt  Santa Maria Maior        3   \n",
      "12866  19079169    2009620     Private room            Estrela        3   \n",
      "12879  19094589  133373223     Private room            Arroios        3   \n",
      "12881  19095346  133373223     Private room            Arroios        4   \n",
      "\n",
      "       overall_satisfaction  accommodates  bedrooms  price  \n",
      "12829                   5.0             3       1.0   29.0  \n",
      "12855                   4.5             4       1.0   64.0  \n",
      "12866                   5.0             2       1.0   35.0  \n",
      "12879                   4.5             4       1.0   35.0  \n",
      "12881                   5.0             2       1.0   35.0  \n"
     ]
    }
   ],
   "source": [
    "# Identificadores de Roberto y Clara\n",
    "id_roberto = 97503\n",
    "id_clara = 90387\n",
    "\n",
    "# Buscar propiedades similares a Roberto y Clara en función de algunos criterios\n",
    "properties_roberto_similar = df_airbnb[(df_airbnb['reviews'] > 0) & (df_airbnb['overall_satisfaction'] > 0) & (df_airbnb['accommodates'] > 0)].head(5)\n",
    "properties_clara_similar = df_airbnb[(df_airbnb['reviews'] > 0) & (df_airbnb['overall_satisfaction'] > 0) & (df_airbnb['accommodates'] > 0)].tail(5)\n",
    "\n",
    "# Imprimir las propiedades similares a Roberto y Clara\n",
    "print(\"Propiedades similares a Roberto:\")\n",
    "print(properties_roberto_similar)\n",
    "\n",
    "print(\"\\nPropiedades similares a Clara:\")\n",
    "print(properties_clara_similar)\n"
   ]
  },
  {
   "cell_type": "code",
   "execution_count": 6,
   "metadata": {},
   "outputs": [
    {
     "name": "stdout",
     "output_type": "stream",
     "text": [
      "\n",
      "Dataframe con propiedades de Roberto y Clara:\n",
      "        room_id    host_id        room_type       neighborhood  reviews  \\\n",
      "0          6499      14455  Entire home/apt              Belém        8   \n",
      "2         25659     107347  Entire home/apt  Santa Maria Maior       63   \n",
      "3         29248     125768  Entire home/apt  Santa Maria Maior      225   \n",
      "4         29396     126415  Entire home/apt  Santa Maria Maior      132   \n",
      "5         29720     128075  Entire home/apt            Estrela       14   \n",
      "12829  19051322  132979089     Private room    Penha de França        3   \n",
      "12855  19067635   46064752  Entire home/apt  Santa Maria Maior        3   \n",
      "12866  19079169    2009620     Private room            Estrela        3   \n",
      "12879  19094589  133373223     Private room            Arroios        3   \n",
      "12881  19095346  133373223     Private room            Arroios        4   \n",
      "\n",
      "       overall_satisfaction  accommodates  bedrooms   price  \n",
      "0                       5.0             2       1.0    57.0  \n",
      "2                       5.0             3       1.0    69.0  \n",
      "3                       4.5             4       1.0    58.0  \n",
      "4                       5.0             4       1.0    67.0  \n",
      "5                       5.0            16       9.0  1154.0  \n",
      "12829                   5.0             3       1.0    29.0  \n",
      "12855                   4.5             4       1.0    64.0  \n",
      "12866                   5.0             2       1.0    35.0  \n",
      "12879                   4.5             4       1.0    35.0  \n",
      "12881                   5.0             2       1.0    35.0  \n",
      "\n",
      "Dataframe guardado como \"/workspaces/PC5/roberto_clara.xlsx\"\n"
     ]
    }
   ],
   "source": [
    "# Crear DataFrames con propiedades similares a Roberto y Clara\n",
    "df_roberto_similar = pd.DataFrame(properties_roberto_similar)\n",
    "df_clara_similar = pd.DataFrame(properties_clara_similar)\n",
    "\n",
    "# Combinar DataFrames de Roberto y Clara\n",
    "df_roberto_clara = pd.concat([df_roberto_similar, df_clara_similar])\n",
    "\n",
    "# Mostrar y guardar el DataFrame combinado\n",
    "print(\"\\nDataframe con propiedades de Roberto y Clara:\")\n",
    "print(df_roberto_clara)\n",
    "\n",
    "# Guardar DataFrame como un archivo Excel\n",
    "file_path_combined = '/workspaces/PC5/roberto_clara.xlsx'\n",
    "df_roberto_clara.to_excel(file_path_combined, index=False)\n",
    "print(f\"\\nDataframe guardado como \\\"{file_path_combined}\\\"\")\n"
   ]
  },
  {
   "cell_type": "markdown",
   "metadata": {},
   "source": [
    "\n",
    "### Caso 3\n",
    "\n",
    "Diana va a Lisboa a pasar 3 noches y quiere conocer a gente nueva. Tiene un presupuesto de 50€ para su alojamiento. Debemos buscarle las 10 propiedades más baratas, dandole preferencia a aquellas que sean habitaciones compartidas *(room_type == Shared room)*, y para aquellas viviendas compartidas debemos elegir aquellas con mejor puntuación."
   ]
  },
  {
   "cell_type": "code",
   "execution_count": 7,
   "metadata": {
    "tags": []
   },
   "outputs": [
    {
     "name": "stdout",
     "output_type": "stream",
     "text": [
      "Empty DataFrame\n",
      "Columns: [room_id, host_id, room_type, neighborhood, reviews, overall_satisfaction, accommodates, bedrooms, price]\n",
      "Index: []\n"
     ]
    }
   ],
   "source": [
    "import pandas as pd\n",
    "\n",
    "# Cargar el DataFrame desde el archivo CSV\n",
    "file_path = '/workspaces/PC5/data/airbnb.csv'\n",
    "df = pd.read_csv(file_path)\n",
    "\n",
    "# Filtrar propiedades en Lisboa con un presupuesto de 50€\n",
    "lisbon_df = df[(df['neighborhood'] == 'Lisboa') & (df['price'] <= 50)]\n",
    "\n",
    "# Ordenar por precio y puntuación (para habitaciones compartidas)\n",
    "sorted_df = lisbon_df.sort_values(by=['price', 'overall_satisfaction'], ascending=[True, False])\n",
    "\n",
    "# Filtrar habitaciones compartidas y seleccionar las 10 más baratas\n",
    "shared_rooms_df = sorted_df[sorted_df['room_type'] == 'Shared room'].head(10)\n",
    "\n",
    "# Si no hay suficientes habitaciones compartidas, tomar el resto de propiedades compartidas\n",
    "if len(shared_rooms_df) < 10:\n",
    "    remaining_rooms = sorted_df[sorted_df['room_type'] != 'Entire home/apt'].head(10 - len(shared_rooms_df))\n",
    "    result_df = pd.concat([shared_rooms_df, remaining_rooms])\n",
    "else:\n",
    "    result_df = shared_rooms_df\n",
    "\n",
    "# Mostrar el resultado\n",
    "print(result_df[['room_id', 'host_id', 'room_type', 'neighborhood', 'reviews', 'overall_satisfaction', 'accommodates', 'bedrooms', 'price']])\n"
   ]
  }
 ],
 "metadata": {
  "kernelspec": {
   "display_name": "Python 3 (ipykernel)",
   "language": "python",
   "name": "python3"
  },
  "language_info": {
   "codemirror_mode": {
    "name": "ipython",
    "version": 3
   },
   "file_extension": ".py",
   "mimetype": "text/x-python",
   "name": "python",
   "nbconvert_exporter": "python",
   "pygments_lexer": "ipython3",
   "version": "3.10.13"
  }
 },
 "nbformat": 4,
 "nbformat_minor": 4
}
